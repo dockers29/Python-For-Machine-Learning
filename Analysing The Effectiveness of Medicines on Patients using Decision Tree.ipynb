{
 "cells": [
  {
   "cell_type": "code",
   "execution_count": 1,
   "id": "b0dd7555",
   "metadata": {},
   "outputs": [],
   "source": [
    "import pandas as pd\n",
    "import numpy as np\n",
    "from sklearn.tree import DecisionTreeClassifier\n",
    "import sklearn.tree as tree"
   ]
  },
  {
   "cell_type": "code",
   "execution_count": 2,
   "id": "c47fae58",
   "metadata": {},
   "outputs": [
    {
     "name": "stdout",
     "output_type": "stream",
     "text": [
      "\"Hello, World!\" \n"
     ]
    }
   ],
   "source": [
    "import subprocess\n",
    "\n",
    "def runcmd(cmd, verbose = False, *args, **kwargs):\n",
    "\n",
    "    process = subprocess.Popen(\n",
    "        cmd,\n",
    "        stdout = subprocess.PIPE,\n",
    "        stderr = subprocess.PIPE,\n",
    "        text = True,\n",
    "        shell = True\n",
    "    )\n",
    "    std_out, std_err = process.communicate()\n",
    "    if verbose:\n",
    "        print(std_out.strip(), std_err)\n",
    "    pass\n",
    "\n",
    "runcmd('echo \"Hello, World!\"', verbose = True)"
   ]
  },
  {
   "cell_type": "markdown",
   "id": "11a7dbda",
   "metadata": {},
   "source": [
    "## Downloading the data"
   ]
  },
  {
   "cell_type": "code",
   "execution_count": 3,
   "id": "feeeeb57",
   "metadata": {},
   "outputs": [
    {
     "name": "stdout",
     "output_type": "stream",
     "text": [
      " --2022-10-20 23:47:45--  https://cf-courses-data.s3.us.cloud-object-storage.appdomain.cloud/IBMDeveloperSkillsNetwork-ML0101EN-SkillsNetwork/labs/Module%203/data/drug200.csv\n",
      "Resolving cf-courses-data.s3.us.cloud-object-storage.appdomain.cloud (cf-courses-data.s3.us.cloud-object-storage.appdomain.cloud)... 169.45.118.108\n",
      "Connecting to cf-courses-data.s3.us.cloud-object-storage.appdomain.cloud (cf-courses-data.s3.us.cloud-object-storage.appdomain.cloud)|169.45.118.108|:443... connected.\n",
      "HTTP request sent, awaiting response... 200 OK\n",
      "Length: 5827 (5,7K) [text/csv]\n",
      "Saving to: 'drug200.csv'\n",
      "\n",
      "     0K .....                                                 100% 1,70G=0s\n",
      "\n",
      "2022-10-20 23:47:48 (1,70 GB/s) - 'drug200.csv' saved [5827/5827]\n",
      "\n",
      "\n"
     ]
    }
   ],
   "source": [
    "runcmd(\"wget https://cf-courses-data.s3.us.cloud-object-storage.appdomain.cloud/IBMDeveloperSkillsNetwork-ML0101EN-SkillsNetwork/labs/Module%203/data/drug200.csv\", verbose = True)"
   ]
  },
  {
   "cell_type": "markdown",
   "id": "b441f9da",
   "metadata": {},
   "source": [
    "Exploring the data"
   ]
  },
  {
   "cell_type": "code",
   "execution_count": 4,
   "id": "27821747",
   "metadata": {},
   "outputs": [],
   "source": [
    "df=pd.read_csv('drug200.csv')"
   ]
  },
  {
   "cell_type": "code",
   "execution_count": 5,
   "id": "b355f2fe",
   "metadata": {},
   "outputs": [
    {
     "data": {
      "text/html": [
       "<div>\n",
       "<style scoped>\n",
       "    .dataframe tbody tr th:only-of-type {\n",
       "        vertical-align: middle;\n",
       "    }\n",
       "\n",
       "    .dataframe tbody tr th {\n",
       "        vertical-align: top;\n",
       "    }\n",
       "\n",
       "    .dataframe thead th {\n",
       "        text-align: right;\n",
       "    }\n",
       "</style>\n",
       "<table border=\"1\" class=\"dataframe\">\n",
       "  <thead>\n",
       "    <tr style=\"text-align: right;\">\n",
       "      <th></th>\n",
       "      <th>Age</th>\n",
       "      <th>Sex</th>\n",
       "      <th>BP</th>\n",
       "      <th>Cholesterol</th>\n",
       "      <th>Na_to_K</th>\n",
       "      <th>Drug</th>\n",
       "    </tr>\n",
       "  </thead>\n",
       "  <tbody>\n",
       "    <tr>\n",
       "      <th>0</th>\n",
       "      <td>23</td>\n",
       "      <td>F</td>\n",
       "      <td>HIGH</td>\n",
       "      <td>HIGH</td>\n",
       "      <td>25.355</td>\n",
       "      <td>drugY</td>\n",
       "    </tr>\n",
       "    <tr>\n",
       "      <th>1</th>\n",
       "      <td>47</td>\n",
       "      <td>M</td>\n",
       "      <td>LOW</td>\n",
       "      <td>HIGH</td>\n",
       "      <td>13.093</td>\n",
       "      <td>drugC</td>\n",
       "    </tr>\n",
       "    <tr>\n",
       "      <th>2</th>\n",
       "      <td>47</td>\n",
       "      <td>M</td>\n",
       "      <td>LOW</td>\n",
       "      <td>HIGH</td>\n",
       "      <td>10.114</td>\n",
       "      <td>drugC</td>\n",
       "    </tr>\n",
       "    <tr>\n",
       "      <th>3</th>\n",
       "      <td>28</td>\n",
       "      <td>F</td>\n",
       "      <td>NORMAL</td>\n",
       "      <td>HIGH</td>\n",
       "      <td>7.798</td>\n",
       "      <td>drugX</td>\n",
       "    </tr>\n",
       "    <tr>\n",
       "      <th>4</th>\n",
       "      <td>61</td>\n",
       "      <td>F</td>\n",
       "      <td>LOW</td>\n",
       "      <td>HIGH</td>\n",
       "      <td>18.043</td>\n",
       "      <td>drugY</td>\n",
       "    </tr>\n",
       "  </tbody>\n",
       "</table>\n",
       "</div>"
      ],
      "text/plain": [
       "   Age Sex      BP Cholesterol  Na_to_K   Drug\n",
       "0   23   F    HIGH        HIGH   25.355  drugY\n",
       "1   47   M     LOW        HIGH   13.093  drugC\n",
       "2   47   M     LOW        HIGH   10.114  drugC\n",
       "3   28   F  NORMAL        HIGH    7.798  drugX\n",
       "4   61   F     LOW        HIGH   18.043  drugY"
      ]
     },
     "execution_count": 5,
     "metadata": {},
     "output_type": "execute_result"
    }
   ],
   "source": [
    "df.head()"
   ]
  },
  {
   "cell_type": "markdown",
   "id": "0fd7f462",
   "metadata": {},
   "source": [
    "The data consists of several information regarding the age, sex, blood pressure(BP), cholesterol, drugs, and how the patients respond to the drugs."
   ]
  },
  {
   "cell_type": "code",
   "execution_count": 6,
   "id": "da195c3a",
   "metadata": {},
   "outputs": [
    {
     "data": {
      "text/plain": [
       "(200, 6)"
      ]
     },
     "execution_count": 6,
     "metadata": {},
     "output_type": "execute_result"
    }
   ],
   "source": [
    "df.shape"
   ]
  },
  {
   "cell_type": "markdown",
   "id": "f7d734e3",
   "metadata": {},
   "source": [
    "The data consists of 200 patients with 6 informations."
   ]
  },
  {
   "cell_type": "code",
   "execution_count": 7,
   "id": "97918db4",
   "metadata": {},
   "outputs": [
    {
     "data": {
      "text/plain": [
       "array([[23, 'F', 'HIGH', 'HIGH', 25.355],\n",
       "       [47, 'M', 'LOW', 'HIGH', 13.093],\n",
       "       [47, 'M', 'LOW', 'HIGH', 10.114],\n",
       "       [28, 'F', 'NORMAL', 'HIGH', 7.798],\n",
       "       [61, 'F', 'LOW', 'HIGH', 18.043]], dtype=object)"
      ]
     },
     "execution_count": 7,
     "metadata": {},
     "output_type": "execute_result"
    }
   ],
   "source": [
    "X = df[['Age', 'Sex', 'BP', 'Cholesterol', 'Na_to_K']].values\n",
    "X[0:5]"
   ]
  },
  {
   "cell_type": "markdown",
   "id": "0cf95222",
   "metadata": {},
   "source": [
    "Sklearn decision trees does not read categorical data such as Sex, BP, and Cholesterol. Thus we must change the data into numerical values by using pd.get_dummies() or preprocessing.LabelEncoder to convert the category into dummy numerics."
   ]
  },
  {
   "cell_type": "code",
   "execution_count": 8,
   "id": "d4cad5ce",
   "metadata": {},
   "outputs": [],
   "source": [
    "from sklearn import preprocessing\n",
    "le_sex=preprocessing.LabelEncoder()\n",
    "le_sex.fit(['F','M'])\n",
    "X[:,1] = le_sex.transform(X[:,1])"
   ]
  },
  {
   "cell_type": "code",
   "execution_count": 9,
   "id": "7a9f45db",
   "metadata": {},
   "outputs": [
    {
     "data": {
      "text/plain": [
       "array([[23, 0, 'HIGH', 'HIGH', 25.355],\n",
       "       [47, 1, 'LOW', 'HIGH', 13.093],\n",
       "       [47, 1, 'LOW', 'HIGH', 10.114],\n",
       "       [28, 0, 'NORMAL', 'HIGH', 7.798],\n",
       "       [61, 0, 'LOW', 'HIGH', 18.043]], dtype=object)"
      ]
     },
     "execution_count": 9,
     "metadata": {},
     "output_type": "execute_result"
    }
   ],
   "source": [
    "X[0:5]"
   ]
  },
  {
   "cell_type": "code",
   "execution_count": 10,
   "id": "9055a25f",
   "metadata": {},
   "outputs": [
    {
     "data": {
      "text/plain": [
       "HIGH      103\n",
       "NORMAL     97\n",
       "Name: Cholesterol, dtype: int64"
      ]
     },
     "execution_count": 10,
     "metadata": {},
     "output_type": "execute_result"
    }
   ],
   "source": [
    "df[\"Cholesterol\"].value_counts()"
   ]
  },
  {
   "cell_type": "markdown",
   "id": "5152156d",
   "metadata": {},
   "source": [
    "So F=0 and M=1, continue for BP and Cholesterol."
   ]
  },
  {
   "cell_type": "code",
   "execution_count": 11,
   "id": "4bb14457",
   "metadata": {},
   "outputs": [],
   "source": [
    "le_BP = preprocessing.LabelEncoder()\n",
    "le_BP.fit([ 'LOW', 'NORMAL', 'HIGH'])\n",
    "X[:,2] = le_BP.transform(X[:,2])"
   ]
  },
  {
   "cell_type": "code",
   "execution_count": 12,
   "id": "81a31190",
   "metadata": {},
   "outputs": [
    {
     "data": {
      "text/plain": [
       "array([[23, 0, 0, 0, 25.355],\n",
       "       [47, 1, 1, 0, 13.093],\n",
       "       [47, 1, 1, 0, 10.114],\n",
       "       [28, 0, 2, 0, 7.798],\n",
       "       [61, 0, 1, 0, 18.043]], dtype=object)"
      ]
     },
     "execution_count": 12,
     "metadata": {},
     "output_type": "execute_result"
    }
   ],
   "source": [
    "le_Chol = preprocessing.LabelEncoder()\n",
    "le_Chol.fit([ 'NORMAL', 'HIGH'])\n",
    "X[:,3] = le_Chol.transform(X[:,3]) \n",
    "\n",
    "X[0:5]"
   ]
  },
  {
   "cell_type": "markdown",
   "id": "eb5d7f60",
   "metadata": {},
   "source": [
    "Target Variable"
   ]
  },
  {
   "cell_type": "code",
   "execution_count": 13,
   "id": "7f37a16b",
   "metadata": {},
   "outputs": [
    {
     "data": {
      "text/plain": [
       "0      drugY\n",
       "1      drugC\n",
       "2      drugC\n",
       "3      drugX\n",
       "4      drugY\n",
       "       ...  \n",
       "195    drugC\n",
       "196    drugC\n",
       "197    drugX\n",
       "198    drugX\n",
       "199    drugX\n",
       "Name: Drug, Length: 200, dtype: object"
      ]
     },
     "execution_count": 13,
     "metadata": {},
     "output_type": "execute_result"
    }
   ],
   "source": [
    "y=df[\"Drug\"]\n",
    "y[0:5]\n",
    "y"
   ]
  },
  {
   "cell_type": "markdown",
   "id": "27dcf3c7",
   "metadata": {},
   "source": [
    "## Setting the decision tree"
   ]
  },
  {
   "cell_type": "code",
   "execution_count": 14,
   "id": "7b44fe82",
   "metadata": {},
   "outputs": [],
   "source": [
    "from sklearn.model_selection import train_test_split"
   ]
  },
  {
   "cell_type": "code",
   "execution_count": 15,
   "id": "358afbab",
   "metadata": {},
   "outputs": [],
   "source": [
    "??train_test_split"
   ]
  },
  {
   "cell_type": "code",
   "execution_count": 16,
   "id": "4be790ae",
   "metadata": {},
   "outputs": [],
   "source": [
    "X_trainset, X_testset, y_trainset, y_testset=train_test_split(X, y, test_size=0.3, random_state=3)"
   ]
  },
  {
   "cell_type": "code",
   "execution_count": 17,
   "id": "e61af31a",
   "metadata": {},
   "outputs": [
    {
     "data": {
      "text/plain": [
       "(array([[26, 0, 0, 1, 19.161],\n",
       "        [41, 0, 2, 1, 22.905],\n",
       "        [28, 0, 2, 0, 19.675],\n",
       "        [19, 0, 0, 0, 13.313],\n",
       "        [50, 1, 2, 1, 15.79],\n",
       "        [24, 1, 2, 0, 25.786],\n",
       "        [72, 1, 1, 0, 16.31],\n",
       "        [74, 0, 1, 0, 20.942],\n",
       "        [37, 0, 1, 1, 12.006],\n",
       "        [31, 1, 0, 1, 17.069],\n",
       "        [22, 0, 2, 0, 8.607],\n",
       "        [20, 0, 2, 1, 9.281],\n",
       "        [28, 0, 1, 0, 13.127],\n",
       "        [59, 0, 2, 0, 13.884],\n",
       "        [15, 1, 0, 1, 17.206],\n",
       "        [51, 0, 1, 1, 23.003],\n",
       "        [45, 1, 1, 1, 10.017],\n",
       "        [33, 0, 1, 0, 33.486],\n",
       "        [39, 1, 0, 0, 9.664],\n",
       "        [29, 0, 0, 0, 29.45],\n",
       "        [60, 1, 2, 0, 15.171],\n",
       "        [24, 0, 0, 1, 18.457],\n",
       "        [49, 0, 2, 1, 9.381],\n",
       "        [37, 1, 1, 1, 8.968],\n",
       "        [32, 0, 0, 1, 10.292],\n",
       "        [21, 0, 0, 1, 28.632],\n",
       "        [23, 1, 2, 0, 12.26],\n",
       "        [40, 1, 0, 0, 27.826],\n",
       "        [38, 1, 1, 0, 18.295],\n",
       "        [47, 1, 1, 1, 30.568],\n",
       "        [22, 0, 0, 1, 22.818],\n",
       "        [47, 1, 0, 0, 10.403],\n",
       "        [30, 0, 2, 0, 10.443],\n",
       "        [69, 1, 1, 0, 15.478],\n",
       "        [42, 0, 0, 0, 21.036],\n",
       "        [45, 1, 1, 1, 8.37],\n",
       "        [49, 1, 0, 1, 6.269],\n",
       "        [72, 1, 1, 0, 6.769],\n",
       "        [74, 1, 1, 1, 11.939],\n",
       "        [66, 0, 2, 1, 8.107],\n",
       "        [46, 1, 2, 1, 7.285],\n",
       "        [68, 0, 2, 1, 27.05],\n",
       "        [58, 0, 0, 0, 19.416],\n",
       "        [19, 0, 0, 1, 25.969],\n",
       "        [20, 1, 0, 1, 35.639],\n",
       "        [69, 1, 1, 1, 11.455],\n",
       "        [32, 0, 0, 1, 25.974],\n",
       "        [72, 1, 0, 1, 9.677],\n",
       "        [50, 0, 2, 1, 12.295],\n",
       "        [54, 1, 2, 0, 24.658],\n",
       "        [36, 0, 0, 0, 11.198],\n",
       "        [64, 0, 1, 1, 25.741],\n",
       "        [35, 1, 1, 1, 9.17],\n",
       "        [47, 0, 1, 0, 11.767],\n",
       "        [47, 0, 1, 0, 10.067],\n",
       "        [34, 0, 0, 1, 19.199],\n",
       "        [26, 0, 1, 0, 14.16],\n",
       "        [37, 0, 0, 1, 23.091],\n",
       "        [48, 1, 0, 1, 10.446],\n",
       "        [47, 0, 2, 1, 6.683],\n",
       "        [55, 0, 0, 0, 10.977],\n",
       "        [43, 1, 1, 1, 19.368],\n",
       "        [35, 0, 0, 0, 12.894],\n",
       "        [49, 1, 1, 1, 11.014],\n",
       "        [45, 1, 1, 0, 17.951],\n",
       "        [15, 1, 2, 0, 9.084],\n",
       "        [57, 0, 2, 1, 25.893],\n",
       "        [65, 1, 0, 1, 11.34],\n",
       "        [70, 1, 0, 0, 9.849],\n",
       "        [46, 0, 0, 0, 34.686],\n",
       "        [41, 1, 0, 1, 15.156],\n",
       "        [34, 1, 0, 0, 18.703],\n",
       "        [42, 1, 0, 1, 12.766],\n",
       "        [32, 1, 0, 1, 9.445],\n",
       "        [25, 1, 2, 0, 19.011],\n",
       "        [62, 1, 1, 1, 27.183],\n",
       "        [23, 1, 0, 0, 8.011],\n",
       "        [23, 1, 2, 0, 31.686],\n",
       "        [58, 0, 1, 0, 38.247],\n",
       "        [26, 1, 1, 1, 20.909],\n",
       "        [68, 1, 0, 0, 11.009],\n",
       "        [60, 1, 0, 0, 13.934],\n",
       "        [15, 0, 0, 1, 16.725],\n",
       "        [53, 0, 0, 1, 12.495],\n",
       "        [37, 1, 1, 1, 16.724],\n",
       "        [40, 0, 2, 0, 10.103],\n",
       "        [59, 1, 0, 0, 13.935],\n",
       "        [47, 1, 1, 0, 13.093],\n",
       "        [65, 0, 1, 1, 13.769],\n",
       "        [16, 1, 0, 1, 19.007],\n",
       "        [67, 1, 2, 1, 9.514],\n",
       "        [23, 1, 1, 0, 7.298],\n",
       "        [56, 0, 1, 0, 11.567],\n",
       "        [68, 0, 0, 1, 10.189],\n",
       "        [65, 1, 0, 1, 34.997],\n",
       "        [39, 0, 1, 1, 22.697],\n",
       "        [35, 1, 2, 1, 7.845],\n",
       "        [64, 1, 0, 1, 20.932],\n",
       "        [28, 0, 1, 0, 19.796],\n",
       "        [56, 1, 1, 0, 15.015],\n",
       "        [57, 1, 1, 1, 19.128],\n",
       "        [39, 1, 1, 1, 13.938],\n",
       "        [32, 0, 1, 1, 10.84],\n",
       "        [36, 0, 2, 0, 16.753],\n",
       "        [65, 0, 0, 1, 31.876],\n",
       "        [41, 1, 1, 0, 11.037],\n",
       "        [67, 1, 1, 1, 20.693],\n",
       "        [23, 1, 2, 1, 14.02],\n",
       "        [40, 0, 1, 1, 11.349],\n",
       "        [53, 1, 1, 0, 22.963],\n",
       "        [56, 0, 0, 0, 25.395],\n",
       "        [50, 1, 0, 0, 7.49],\n",
       "        [22, 1, 0, 1, 28.294],\n",
       "        [18, 0, 0, 1, 24.276],\n",
       "        [62, 1, 2, 0, 16.594],\n",
       "        [32, 0, 2, 0, 7.477],\n",
       "        [38, 0, 1, 1, 29.875],\n",
       "        [47, 1, 1, 0, 10.114],\n",
       "        [29, 1, 0, 0, 12.856],\n",
       "        [49, 1, 0, 1, 8.7],\n",
       "        [64, 1, 2, 0, 7.761],\n",
       "        [31, 1, 0, 0, 30.366],\n",
       "        [60, 1, 0, 1, 8.621],\n",
       "        [57, 0, 2, 0, 14.216],\n",
       "        [42, 0, 1, 1, 29.271],\n",
       "        [39, 0, 2, 1, 17.225],\n",
       "        [61, 0, 1, 1, 7.34],\n",
       "        [58, 0, 1, 0, 26.645],\n",
       "        [61, 0, 0, 0, 25.475],\n",
       "        [22, 1, 1, 0, 8.151],\n",
       "        [51, 1, 0, 1, 11.343],\n",
       "        [20, 0, 0, 0, 11.262],\n",
       "        [42, 1, 1, 0, 20.013],\n",
       "        [26, 0, 0, 1, 12.307],\n",
       "        [63, 1, 2, 0, 25.917],\n",
       "        [23, 0, 0, 0, 25.355],\n",
       "        [18, 0, 0, 0, 37.188],\n",
       "        [52, 1, 1, 1, 32.922],\n",
       "        [55, 1, 2, 1, 7.261],\n",
       "        [22, 1, 2, 0, 11.953]], dtype=object),\n",
       " array([[73, 0, 2, 0, 19.221],\n",
       "        [67, 1, 2, 1, 10.898],\n",
       "        [69, 0, 2, 0, 10.065],\n",
       "        [52, 1, 2, 0, 9.894],\n",
       "        [28, 0, 2, 0, 12.879],\n",
       "        [32, 0, 1, 0, 9.712],\n",
       "        [36, 0, 0, 1, 15.49],\n",
       "        [37, 0, 0, 0, 13.091],\n",
       "        [70, 1, 0, 0, 13.967],\n",
       "        [31, 1, 0, 1, 11.871],\n",
       "        [67, 0, 2, 0, 15.891],\n",
       "        [38, 0, 0, 1, 11.326],\n",
       "        [28, 0, 0, 1, 18.809],\n",
       "        [58, 1, 0, 0, 18.991],\n",
       "        [34, 0, 1, 1, 12.923],\n",
       "        [41, 0, 1, 1, 18.739],\n",
       "        [36, 1, 1, 1, 11.424],\n",
       "        [28, 0, 2, 0, 7.798],\n",
       "        [58, 0, 0, 1, 14.239],\n",
       "        [60, 1, 2, 1, 10.091],\n",
       "        [50, 0, 2, 0, 12.703],\n",
       "        [74, 1, 0, 1, 15.436],\n",
       "        [43, 1, 1, 0, 15.376],\n",
       "        [49, 0, 2, 0, 16.275],\n",
       "        [20, 0, 1, 1, 11.686],\n",
       "        [57, 0, 0, 1, 9.945],\n",
       "        [47, 1, 1, 1, 33.542],\n",
       "        [34, 1, 2, 0, 22.456],\n",
       "        [45, 0, 0, 0, 12.854],\n",
       "        [51, 0, 2, 0, 13.597],\n",
       "        [60, 0, 0, 0, 13.303],\n",
       "        [68, 1, 1, 0, 10.291],\n",
       "        [59, 0, 1, 0, 10.444],\n",
       "        [53, 1, 2, 0, 14.133],\n",
       "        [39, 0, 2, 1, 9.709],\n",
       "        [16, 1, 1, 0, 12.006],\n",
       "        [61, 0, 1, 0, 18.043],\n",
       "        [24, 0, 2, 0, 10.605],\n",
       "        [17, 1, 2, 1, 10.832],\n",
       "        [61, 1, 2, 0, 9.443],\n",
       "        [31, 1, 0, 1, 11.227],\n",
       "        [51, 1, 0, 0, 18.295],\n",
       "        [49, 1, 1, 0, 10.537],\n",
       "        [16, 0, 0, 1, 15.516],\n",
       "        [24, 1, 0, 1, 9.475],\n",
       "        [73, 0, 0, 0, 18.348],\n",
       "        [28, 1, 2, 0, 27.064],\n",
       "        [70, 0, 2, 0, 20.489],\n",
       "        [48, 0, 1, 0, 15.036],\n",
       "        [72, 0, 1, 1, 14.642],\n",
       "        [74, 1, 0, 0, 9.567],\n",
       "        [56, 1, 2, 0, 8.966],\n",
       "        [50, 0, 2, 1, 17.211],\n",
       "        [49, 1, 1, 1, 13.598],\n",
       "        [23, 1, 2, 0, 16.85],\n",
       "        [66, 1, 0, 0, 16.347],\n",
       "        [43, 1, 0, 0, 13.972],\n",
       "        [18, 0, 2, 1, 8.75],\n",
       "        [39, 1, 2, 0, 15.969],\n",
       "        [43, 1, 2, 1, 12.859]], dtype=object),\n",
       " 77     drugY\n",
       " 73     drugY\n",
       " 71     drugY\n",
       " 78     drugA\n",
       " 42     drugY\n",
       "        ...  \n",
       " 0      drugY\n",
       " 184    drugY\n",
       " 131    drugY\n",
       " 152    drugX\n",
       " 106    drugX\n",
       " Name: Drug, Length: 140, dtype: object,\n",
       " 40     drugY\n",
       " 51     drugX\n",
       " 139    drugX\n",
       " 197    drugX\n",
       " 170    drugX\n",
       " 82     drugC\n",
       " 183    drugY\n",
       " 46     drugA\n",
       " 70     drugB\n",
       " 100    drugA\n",
       " 179    drugY\n",
       " 83     drugA\n",
       " 25     drugY\n",
       " 190    drugY\n",
       " 159    drugX\n",
       " 173    drugY\n",
       " 95     drugX\n",
       " 3      drugX\n",
       " 41     drugB\n",
       " 58     drugX\n",
       " 14     drugX\n",
       " 143    drugY\n",
       " 12     drugY\n",
       " 6      drugY\n",
       " 182    drugX\n",
       " 161    drugB\n",
       " 128    drugY\n",
       " 122    drugY\n",
       " 101    drugA\n",
       " 86     drugX\n",
       " 64     drugB\n",
       " 47     drugC\n",
       " 158    drugC\n",
       " 34     drugX\n",
       " 38     drugX\n",
       " 196    drugC\n",
       " 4      drugY\n",
       " 72     drugX\n",
       " 67     drugX\n",
       " 145    drugX\n",
       " 156    drugA\n",
       " 115    drugY\n",
       " 155    drugC\n",
       " 15     drugY\n",
       " 61     drugA\n",
       " 175    drugY\n",
       " 120    drugY\n",
       " 130    drugY\n",
       " 23     drugY\n",
       " 153    drugX\n",
       " 31     drugB\n",
       " 103    drugX\n",
       " 89     drugY\n",
       " 132    drugX\n",
       " 109    drugY\n",
       " 126    drugY\n",
       " 17     drugA\n",
       " 30     drugX\n",
       " 178    drugY\n",
       " 162    drugX\n",
       " Name: Drug, dtype: object)"
      ]
     },
     "execution_count": 17,
     "metadata": {},
     "output_type": "execute_result"
    }
   ],
   "source": [
    "X_trainset, X_testset, y_trainset, y_testset"
   ]
  },
  {
   "cell_type": "code",
   "execution_count": 18,
   "id": "38a049f1",
   "metadata": {},
   "outputs": [
    {
     "name": "stdout",
     "output_type": "stream",
     "text": [
      "Shape of X test (60, 5) & Shape of y test (60,)\n"
     ]
    }
   ],
   "source": [
    "print('Shape of X test {}'.format(X_testset.shape),'&','Shape of y test {}'.format(y_testset.shape))"
   ]
  },
  {
   "cell_type": "markdown",
   "id": "2434ca8f",
   "metadata": {},
   "source": [
    "## Modelling"
   ]
  },
  {
   "cell_type": "code",
   "execution_count": 19,
   "id": "ea42fcd4",
   "metadata": {},
   "outputs": [
    {
     "data": {
      "text/html": [
       "<style>#sk-container-id-1 {color: black;background-color: white;}#sk-container-id-1 pre{padding: 0;}#sk-container-id-1 div.sk-toggleable {background-color: white;}#sk-container-id-1 label.sk-toggleable__label {cursor: pointer;display: block;width: 100%;margin-bottom: 0;padding: 0.3em;box-sizing: border-box;text-align: center;}#sk-container-id-1 label.sk-toggleable__label-arrow:before {content: \"▸\";float: left;margin-right: 0.25em;color: #696969;}#sk-container-id-1 label.sk-toggleable__label-arrow:hover:before {color: black;}#sk-container-id-1 div.sk-estimator:hover label.sk-toggleable__label-arrow:before {color: black;}#sk-container-id-1 div.sk-toggleable__content {max-height: 0;max-width: 0;overflow: hidden;text-align: left;background-color: #f0f8ff;}#sk-container-id-1 div.sk-toggleable__content pre {margin: 0.2em;color: black;border-radius: 0.25em;background-color: #f0f8ff;}#sk-container-id-1 input.sk-toggleable__control:checked~div.sk-toggleable__content {max-height: 200px;max-width: 100%;overflow: auto;}#sk-container-id-1 input.sk-toggleable__control:checked~label.sk-toggleable__label-arrow:before {content: \"▾\";}#sk-container-id-1 div.sk-estimator input.sk-toggleable__control:checked~label.sk-toggleable__label {background-color: #d4ebff;}#sk-container-id-1 div.sk-label input.sk-toggleable__control:checked~label.sk-toggleable__label {background-color: #d4ebff;}#sk-container-id-1 input.sk-hidden--visually {border: 0;clip: rect(1px 1px 1px 1px);clip: rect(1px, 1px, 1px, 1px);height: 1px;margin: -1px;overflow: hidden;padding: 0;position: absolute;width: 1px;}#sk-container-id-1 div.sk-estimator {font-family: monospace;background-color: #f0f8ff;border: 1px dotted black;border-radius: 0.25em;box-sizing: border-box;margin-bottom: 0.5em;}#sk-container-id-1 div.sk-estimator:hover {background-color: #d4ebff;}#sk-container-id-1 div.sk-parallel-item::after {content: \"\";width: 100%;border-bottom: 1px solid gray;flex-grow: 1;}#sk-container-id-1 div.sk-label:hover label.sk-toggleable__label {background-color: #d4ebff;}#sk-container-id-1 div.sk-serial::before {content: \"\";position: absolute;border-left: 1px solid gray;box-sizing: border-box;top: 0;bottom: 0;left: 50%;z-index: 0;}#sk-container-id-1 div.sk-serial {display: flex;flex-direction: column;align-items: center;background-color: white;padding-right: 0.2em;padding-left: 0.2em;position: relative;}#sk-container-id-1 div.sk-item {position: relative;z-index: 1;}#sk-container-id-1 div.sk-parallel {display: flex;align-items: stretch;justify-content: center;background-color: white;position: relative;}#sk-container-id-1 div.sk-item::before, #sk-container-id-1 div.sk-parallel-item::before {content: \"\";position: absolute;border-left: 1px solid gray;box-sizing: border-box;top: 0;bottom: 0;left: 50%;z-index: -1;}#sk-container-id-1 div.sk-parallel-item {display: flex;flex-direction: column;z-index: 1;position: relative;background-color: white;}#sk-container-id-1 div.sk-parallel-item:first-child::after {align-self: flex-end;width: 50%;}#sk-container-id-1 div.sk-parallel-item:last-child::after {align-self: flex-start;width: 50%;}#sk-container-id-1 div.sk-parallel-item:only-child::after {width: 0;}#sk-container-id-1 div.sk-dashed-wrapped {border: 1px dashed gray;margin: 0 0.4em 0.5em 0.4em;box-sizing: border-box;padding-bottom: 0.4em;background-color: white;}#sk-container-id-1 div.sk-label label {font-family: monospace;font-weight: bold;display: inline-block;line-height: 1.2em;}#sk-container-id-1 div.sk-label-container {text-align: center;}#sk-container-id-1 div.sk-container {/* jupyter's `normalize.less` sets `[hidden] { display: none; }` but bootstrap.min.css set `[hidden] { display: none !important; }` so we also need the `!important` here to be able to override the default hidden behavior on the sphinx rendered scikit-learn.org. See: https://github.com/scikit-learn/scikit-learn/issues/21755 */display: inline-block !important;position: relative;}#sk-container-id-1 div.sk-text-repr-fallback {display: none;}</style><div id=\"sk-container-id-1\" class=\"sk-top-container\"><div class=\"sk-text-repr-fallback\"><pre>DecisionTreeClassifier(criterion=&#x27;entropy&#x27;, max_depth=4)</pre><b>In a Jupyter environment, please rerun this cell to show the HTML representation or trust the notebook. <br />On GitHub, the HTML representation is unable to render, please try loading this page with nbviewer.org.</b></div><div class=\"sk-container\" hidden><div class=\"sk-item\"><div class=\"sk-estimator sk-toggleable\"><input class=\"sk-toggleable__control sk-hidden--visually\" id=\"sk-estimator-id-1\" type=\"checkbox\" checked><label for=\"sk-estimator-id-1\" class=\"sk-toggleable__label sk-toggleable__label-arrow\">DecisionTreeClassifier</label><div class=\"sk-toggleable__content\"><pre>DecisionTreeClassifier(criterion=&#x27;entropy&#x27;, max_depth=4)</pre></div></div></div></div></div>"
      ],
      "text/plain": [
       "DecisionTreeClassifier(criterion='entropy', max_depth=4)"
      ]
     },
     "execution_count": 19,
     "metadata": {},
     "output_type": "execute_result"
    }
   ],
   "source": [
    "drugtree=DecisionTreeClassifier(criterion='entropy', max_depth=4)\n",
    "drugtree"
   ]
  },
  {
   "cell_type": "code",
   "execution_count": 20,
   "id": "fe83f791",
   "metadata": {},
   "outputs": [],
   "source": [
    "clf=drugtree.fit(X_trainset, y_trainset)"
   ]
  },
  {
   "cell_type": "markdown",
   "id": "8235dc4e",
   "metadata": {},
   "source": [
    "## Prediction"
   ]
  },
  {
   "cell_type": "markdown",
   "id": "acaa5680",
   "metadata": {},
   "source": [
    "Let's make prediction using the model above on the test data set and store it into a variable predTree."
   ]
  },
  {
   "cell_type": "code",
   "execution_count": 21,
   "id": "d2a3c88b",
   "metadata": {},
   "outputs": [],
   "source": [
    "predTree=drugtree.predict(X_testset)"
   ]
  },
  {
   "cell_type": "code",
   "execution_count": 22,
   "id": "bc794587",
   "metadata": {},
   "outputs": [
    {
     "name": "stdout",
     "output_type": "stream",
     "text": [
      "['drugY' 'drugX' 'drugX' 'drugX' 'drugX' 'drugC' 'drugY' 'drugA' 'drugB'\n",
      " 'drugA' 'drugY' 'drugA' 'drugY' 'drugY' 'drugX' 'drugY' 'drugX' 'drugX'\n",
      " 'drugB' 'drugX' 'drugX' 'drugY' 'drugY' 'drugY' 'drugX' 'drugB' 'drugY'\n",
      " 'drugY' 'drugA' 'drugX' 'drugB' 'drugC' 'drugC' 'drugX' 'drugX' 'drugC'\n",
      " 'drugY' 'drugX' 'drugX' 'drugX' 'drugA' 'drugY' 'drugC' 'drugY' 'drugA'\n",
      " 'drugY' 'drugY' 'drugY' 'drugY' 'drugY' 'drugB' 'drugX' 'drugY' 'drugX'\n",
      " 'drugY' 'drugY' 'drugA' 'drugX' 'drugY' 'drugX']\n",
      "40     drugY\n",
      "51     drugX\n",
      "139    drugX\n",
      "197    drugX\n",
      "170    drugX\n",
      "82     drugC\n",
      "183    drugY\n",
      "46     drugA\n",
      "70     drugB\n",
      "100    drugA\n",
      "179    drugY\n",
      "83     drugA\n",
      "25     drugY\n",
      "190    drugY\n",
      "159    drugX\n",
      "173    drugY\n",
      "95     drugX\n",
      "3      drugX\n",
      "41     drugB\n",
      "58     drugX\n",
      "14     drugX\n",
      "143    drugY\n",
      "12     drugY\n",
      "6      drugY\n",
      "182    drugX\n",
      "161    drugB\n",
      "128    drugY\n",
      "122    drugY\n",
      "101    drugA\n",
      "86     drugX\n",
      "64     drugB\n",
      "47     drugC\n",
      "158    drugC\n",
      "34     drugX\n",
      "38     drugX\n",
      "196    drugC\n",
      "4      drugY\n",
      "72     drugX\n",
      "67     drugX\n",
      "145    drugX\n",
      "156    drugA\n",
      "115    drugY\n",
      "155    drugC\n",
      "15     drugY\n",
      "61     drugA\n",
      "175    drugY\n",
      "120    drugY\n",
      "130    drugY\n",
      "23     drugY\n",
      "153    drugX\n",
      "31     drugB\n",
      "103    drugX\n",
      "89     drugY\n",
      "132    drugX\n",
      "109    drugY\n",
      "126    drugY\n",
      "17     drugA\n",
      "30     drugX\n",
      "178    drugY\n",
      "162    drugX\n",
      "Name: Drug, dtype: object\n"
     ]
    }
   ],
   "source": [
    "print(predTree)\n",
    "print(y_testset)"
   ]
  },
  {
   "cell_type": "markdown",
   "id": "91eda315",
   "metadata": {},
   "source": [
    "The first 5 are okay as we could see, but let's evaluate the overall performance of the model."
   ]
  },
  {
   "cell_type": "markdown",
   "id": "9738b736",
   "metadata": {},
   "source": [
    "## Evaluate The Model"
   ]
  },
  {
   "cell_type": "markdown",
   "id": "79e140f6",
   "metadata": {},
   "source": [
    "For model evaluation, we will use metrics from sklearn to check the accuracy of the model."
   ]
  },
  {
   "cell_type": "code",
   "execution_count": 23,
   "id": "55a82c6f",
   "metadata": {},
   "outputs": [],
   "source": [
    "from sklearn import metrics\n",
    "import matplotlib.pyplot as plt"
   ]
  },
  {
   "cell_type": "code",
   "execution_count": 24,
   "id": "86630533",
   "metadata": {},
   "outputs": [
    {
     "name": "stdout",
     "output_type": "stream",
     "text": [
      "DecisionTree's Accuracy: 0.9833333333333333\n"
     ]
    }
   ],
   "source": [
    "print(\"DecisionTree's Accuracy:\", metrics.accuracy_score(y_testset, predTree))"
   ]
  },
  {
   "cell_type": "markdown",
   "id": "7f00dfc8",
   "metadata": {},
   "source": [
    "The closer the value to 1, the closer it matches with the testset, implying better accuracy."
   ]
  },
  {
   "cell_type": "markdown",
   "id": "c95846b5",
   "metadata": {},
   "source": [
    "# Visualizing The Tree"
   ]
  },
  {
   "cell_type": "markdown",
   "id": "15dcc71d",
   "metadata": {},
   "source": [
    "First, let's install the packages and import them"
   ]
  },
  {
   "cell_type": "code",
   "execution_count": 25,
   "id": "28317945",
   "metadata": {},
   "outputs": [],
   "source": [
    "#!conda install -c conda-forge pydotplus -y\n",
    "#!conda install -c conda-forge python-graphviz -y"
   ]
  },
  {
   "cell_type": "code",
   "execution_count": 26,
   "id": "5655e7b8",
   "metadata": {},
   "outputs": [],
   "source": [
    "?tree.plot_tree"
   ]
  },
  {
   "cell_type": "code",
   "execution_count": 27,
   "id": "e156a931",
   "metadata": {},
   "outputs": [
    {
     "data": {
      "image/png": "[encoded data removed]",
      "text/plain": [
       "<Figure size 432x288 with 1 Axes>"
      ]
     },
     "metadata": {
      "needs_background": "light"
     },
     "output_type": "display_data"
    }
   ],
   "source": [
    "tree.plot_tree(drugtree)\n",
    "plt.show()"
   ]
  },
  {
   "cell_type": "code",
   "execution_count": 28,
   "id": "2e3a34fe",
   "metadata": {},
   "outputs": [],
   "source": [
    "with open(\"drug200.csv\", 'w') as f:  \n",
    "    f = tree.export_graphviz(clf, out_file=f)  "
   ]
  },
  {
   "cell_type": "code",
   "execution_count": 29,
   "id": "df747d4b",
   "metadata": {},
   "outputs": [],
   "source": [
    "import os\n",
    "os.unlink('drug200.csv')"
   ]
  },
  {
   "cell_type": "code",
   "execution_count": 30,
   "id": "5bcef91f",
   "metadata": {},
   "outputs": [
    {
     "data": {
      "text/plain": [
       "True"
      ]
     },
     "execution_count": 30,
     "metadata": {},
     "output_type": "execute_result"
    }
   ],
   "source": [
    "import pydotplus\n",
    "dot_data=tree.export_graphviz(clf, out_file=None)\n",
    "graph2=pydotplus.graph_from_dot_data(dot_data)\n",
    "graph2.write(\"drug200.csv.pdf\")"
   ]
  },
  {
   "cell_type": "code",
   "execution_count": 31,
   "id": "40a4246a",
   "metadata": {},
   "outputs": [],
   "source": [
    "feature_names=['Age', 'Sex', 'BP', 'Cholesterol', 'Na_to_K']"
   ]
  },
  {
   "cell_type": "code",
   "execution_count": 32,
   "id": "f1715512",
   "metadata": {},
   "outputs": [],
   "source": [
    "target_names=['drugA','drugB', 'drugC', 'drugX', 'drugY']"
   ]
  },
  {
   "cell_type": "code",
   "execution_count": 33,
   "id": "13d7caf5",
   "metadata": {},
   "outputs": [
    {
     "data": {
      "image/png": "[encoded data removed]",
      "text/plain": [
       "<IPython.core.display.Image object>"
      ]
     },
     "execution_count": 33,
     "metadata": {},
     "output_type": "execute_result"
    }
   ],
   "source": [
    "from IPython.display import Image\n",
    "dot_data=tree.export_graphviz(clf, out_file=None,  \n",
    "                     feature_names=feature_names, class_names=target_names, filled=True, rounded=True,  # leaves_parallel=True, \n",
    "                     special_characters=True)\n",
    "graph2 = pydotplus.graph_from_dot_data(dot_data)\n",
    "nodes = graph2.get_node_list()\n",
    "Image(graph2.create_png() ) "
   ]
  },
  {
   "cell_type": "markdown",
   "id": "0813383b",
   "metadata": {},
   "source": [
    "Notes:\n",
    "1) Everytime a split happens, we try to increase the purity of the prediction by using a certain criteria in each nodes.\n",
    "\n",
    "2) With the accuracy of 0.98 is quite accurate. Below I also make sure that the classification is correct by filtering out data via conditions.\n",
    "\n",
    "3) Drug A is for those who have Na_to_K lower than or equals to 14.6, High BP, and younger or at age 50, while Drug Y is for those who have Na_to_K higher than 14.6.\n",
    "\n",
    "Numeric value interpretation:\n",
    "\n",
    "BP: High=0, Low=1, Normal=2\n",
    "\n",
    "Cholesterol: High=1, Normal=0"
   ]
  },
  {
   "cell_type": "markdown",
   "id": "c7ed5c7d",
   "metadata": {},
   "source": [
    "## Making sure that our labelling of drug classification is correct"
   ]
  },
  {
   "cell_type": "code",
   "execution_count": 34,
   "id": "ae64f973",
   "metadata": {},
   "outputs": [
    {
     "name": "stdout",
     "output_type": "stream",
     "text": [
      "BP of Drug X: HIGH    23\n",
      "Name: BP, dtype: int64 & BP of Drug B HIGH    16\n",
      "Name: BP, dtype: int64\n"
     ]
    }
   ],
   "source": [
    "newdf = df[(df.Drug == \"drugA\")] #reading the graph,check whether BP of patients for drug A and B is equals to 0, which is High.\n",
    "drugXBP=newdf['BP'].value_counts()\n",
    "newdf2 = df[(df.Drug == \"drugB\")]\n",
    "drugBBP=newdf2['BP'].value_counts()\n",
    "print(\"BP of Drug X:\",drugXBP,\"& BP of Drug B\", drugBBP)"
   ]
  },
  {
   "cell_type": "code",
   "execution_count": 36,
   "id": "033ea578",
   "metadata": {},
   "outputs": [
    {
     "name": "stdout",
     "output_type": "stream",
     "text": [
      "Age of Drug X: 31    2\n",
      "49    2\n",
      "32    2\n",
      "43    1\n",
      "35    1\n",
      "47    1\n",
      "48    1\n",
      "42    1\n",
      "20    1\n",
      "26    1\n",
      "39    1\n",
      "50    1\n",
      "45    1\n",
      "38    1\n",
      "19    1\n",
      "36    1\n",
      "29    1\n",
      "24    1\n",
      "37    1\n",
      "23    1\n",
      "Name: Age, dtype: int64 & Age of Drug B 60    3\n",
      "68    2\n",
      "70    2\n",
      "74    1\n",
      "58    1\n",
      "65    1\n",
      "59    1\n",
      "72    1\n",
      "53    1\n",
      "55    1\n",
      "51    1\n",
      "57    1\n",
      "Name: Age, dtype: int64\n"
     ]
    }
   ],
   "source": [
    "newdf = df[(df.Drug == \"drugA\")] #reading the graph,check whether Age of patients for drug A is less or equals to 50, and B otherwise.\n",
    "drugXAge=newdf['Age'].value_counts()\n",
    "newdf2 = df[(df.Drug == \"drugB\")]\n",
    "drugBAge=newdf2['Age'].value_counts()\n",
    "print(\"Age of Drug X:\",\n",
    "      drugXAge,\n",
    "      \"& Age of Drug B\", drugBAge)"
   ]
  },
  {
   "cell_type": "markdown",
   "id": "73f71a71",
   "metadata": {},
   "source": [
    "It is as classified by the model."
   ]
  },
  {
   "cell_type": "code",
   "execution_count": null,
   "id": "5eb94c5a",
   "metadata": {},
   "outputs": [],
   "source": []
  }
 ],
 "metadata": {
  "kernelspec": {
   "display_name": "Python 3 (ipykernel)",
   "language": "python",
   "name": "python3"
  },
  "language_info": {
   "codemirror_mode": {
    "name": "ipython",
    "version": 3
   },
   "file_extension": ".py",
   "mimetype": "text/x-python",
   "name": "python",
   "nbconvert_exporter": "python",
   "pygments_lexer": "ipython3",
   "version": "3.9.12"
  }
 },
 "nbformat": 4,
 "nbformat_minor": 5
}
