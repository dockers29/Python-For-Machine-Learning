{
 "cells": [
  {
   "cell_type": "code",
   "execution_count": 24,
   "id": "f909d2d4",
   "metadata": {},
   "outputs": [],
   "source": [
    "import imaplib\n",
    "import email\n",
    "from email.header import decode_header\n",
    "import pandas as pd\n",
    "import numpy as np"
   ]
  },
  {
   "cell_type": "code",
   "execution_count": 25,
   "id": "ce31b624",
   "metadata": {},
   "outputs": [],
   "source": [
    "username=\"User Mail\"\n",
    "app_password=\"User Password\"\n",
    "gmail_host= 'imap.gmail.com'"
   ]
  },
  {
   "cell_type": "code",
   "execution_count": 26,
   "id": "e6ca4e96",
   "metadata": {},
   "outputs": [],
   "source": [
    "mail=imaplib.IMAP4_SSL(gmail_host)"
   ]
  },
  {
   "cell_type": "code",
   "execution_count": 27,
   "id": "58de9872",
   "metadata": {},
   "outputs": [
    {
     "data": {
      "text/plain": [
       "('OK', [b'fightfan1296@gmail.com authenticated (Success)'])"
      ]
     },
     "execution_count": 27,
     "metadata": {},
     "output_type": "execute_result"
    }
   ],
   "source": [
    "mail.login(username, app_password)"
   ]
  },
  {
   "cell_type": "code",
   "execution_count": 28,
   "id": "b0bac06a",
   "metadata": {},
   "outputs": [],
   "source": [
    "#mail.select(mailbox='INBOX') #Access to inbox\n",
    "res, messages = mail.select('\"[Gmail]/Sent Mail\"')  #Acess to sent emails\n",
    "messages = int(messages[0])\n",
    "n = 9"
   ]
  },
  {
   "cell_type": "code",
   "execution_count": 29,
   "id": "b550ee84",
   "metadata": {},
   "outputs": [
    {
     "data": {
      "text/plain": [
       "'OK'"
      ]
     },
     "execution_count": 29,
     "metadata": {},
     "output_type": "execute_result"
    }
   ],
   "source": [
    "res"
   ]
  },
  {
   "cell_type": "code",
   "execution_count": 38,
   "id": "2114540b",
   "metadata": {},
   "outputs": [
    {
     "ename": "ValueError",
     "evalue": "invalid literal for int() with base 10: '#4 CGC sales forecast has changed'",
     "output_type": "error",
     "traceback": [
      "\u001b[1;31m---------------------------------------------------------------------------\u001b[0m",
      "\u001b[1;31mValueError\u001b[0m                                Traceback (most recent call last)",
      "Input \u001b[1;32mIn [38]\u001b[0m, in \u001b[0;36m<cell line: 3>\u001b[1;34m()\u001b[0m\n\u001b[0;32m     12\u001b[0m \u001b[38;5;66;03m# getting the subject of the sent mail\u001b[39;00m\n\u001b[0;32m     13\u001b[0m subject \u001b[38;5;241m=\u001b[39m msg[\u001b[38;5;124m\"\u001b[39m\u001b[38;5;124mSubject\u001b[39m\u001b[38;5;124m\"\u001b[39m]\n\u001b[1;32m---> 14\u001b[0m lis_subj\u001b[38;5;241m.\u001b[39mappend(\u001b[38;5;28;43mint\u001b[39;49m\u001b[43m(\u001b[49m\u001b[43mmsg\u001b[49m\u001b[43m[\u001b[49m\u001b[38;5;124;43m\"\u001b[39;49m\u001b[38;5;124;43mSubject\u001b[39;49m\u001b[38;5;124;43m\"\u001b[39;49m\u001b[43m]\u001b[49m\u001b[43m)\u001b[49m)\n\u001b[0;32m     15\u001b[0m \u001b[38;5;66;03m# printing the details\u001b[39;00m\n\u001b[0;32m     16\u001b[0m \u001b[38;5;28mprint\u001b[39m(\u001b[38;5;124m\"\u001b[39m\u001b[38;5;124mFrom : \u001b[39m\u001b[38;5;124m\"\u001b[39m, From)\n",
      "\u001b[1;31mValueError\u001b[0m: invalid literal for int() with base 10: '#4 CGC sales forecast has changed'"
     ]
    }
   ],
   "source": [
    "lis_subj=[]\n",
    "lis_from=[]\n",
    "for i in range(messages, messages - n, -1):\n",
    "    res, msg = mail.fetch(str(i), \"(RFC822)\")     \n",
    "    for response in msg:\n",
    "        if isinstance(response, tuple):\n",
    "            msg = email.message_from_bytes(response[1])\n",
    "              \n",
    "            # getting the sender's mail id\n",
    "            From = msg[\"From\"]\n",
    "            lis_from.append(msg[\"From\"])\n",
    "            # getting the subject of the sent mail\n",
    "            subject = msg[\"Subject\"]\n",
    "            lis_subj.append(msg[\"Subject\"])\n",
    "            # printing the details\n",
    "            print(\"From : \", From)\n",
    "            print(\"Subject : \", subject)"
   ]
  },
  {
   "cell_type": "code",
   "execution_count": 37,
   "id": "60748f28",
   "metadata": {},
   "outputs": [
    {
     "ename": "TypeError",
     "evalue": "int() argument must be a string, a bytes-like object or a number, not 'DataFrame'",
     "output_type": "error",
     "traceback": [
      "\u001b[1;31m---------------------------------------------------------------------------\u001b[0m",
      "\u001b[1;31mTypeError\u001b[0m                                 Traceback (most recent call last)",
      "Input \u001b[1;32mIn [37]\u001b[0m, in \u001b[0;36m<cell line: 1>\u001b[1;34m()\u001b[0m\n\u001b[1;32m----> 1\u001b[0m lis_subj\u001b[38;5;241m=\u001b[39mpd\u001b[38;5;241m.\u001b[39mDataFrame(\u001b[38;5;28;43mint\u001b[39;49m\u001b[43m(\u001b[49m\u001b[43mlis_subj\u001b[49m\u001b[43m)\u001b[49m)\n\u001b[0;32m      2\u001b[0m lis_subj\u001b[38;5;241m.\u001b[39mrename(columns \u001b[38;5;241m=\u001b[39m {\u001b[38;5;241m0\u001b[39m:\u001b[38;5;124m'\u001b[39m\u001b[38;5;124mSubject\u001b[39m\u001b[38;5;124m'\u001b[39m}, inplace \u001b[38;5;241m=\u001b[39m \u001b[38;5;28;01mTrue\u001b[39;00m)\n\u001b[0;32m      3\u001b[0m lis_subj\n",
      "\u001b[1;31mTypeError\u001b[0m: int() argument must be a string, a bytes-like object or a number, not 'DataFrame'"
     ]
    }
   ],
   "source": [
    "lis_subj=pd.DataFrame(lis_subj)\n",
    "lis_subj.rename(columns = {0:'Subject'}, inplace = True)\n",
    "lis_subj"
   ]
  },
  {
   "cell_type": "code",
   "execution_count": 32,
   "id": "a5d6c301",
   "metadata": {},
   "outputs": [
    {
     "data": {
      "text/html": [
       "<div>\n",
       "<style scoped>\n",
       "    .dataframe tbody tr th:only-of-type {\n",
       "        vertical-align: middle;\n",
       "    }\n",
       "\n",
       "    .dataframe tbody tr th {\n",
       "        vertical-align: top;\n",
       "    }\n",
       "\n",
       "    .dataframe thead th {\n",
       "        text-align: right;\n",
       "    }\n",
       "</style>\n",
       "<table border=\"1\" class=\"dataframe\">\n",
       "  <thead>\n",
       "    <tr style=\"text-align: right;\">\n",
       "      <th></th>\n",
       "      <th>From</th>\n",
       "    </tr>\n",
       "  </thead>\n",
       "  <tbody>\n",
       "    <tr>\n",
       "      <th>0</th>\n",
       "      <td>Fight Fan &lt;fightfan1296@gmail.com&gt;</td>\n",
       "    </tr>\n",
       "    <tr>\n",
       "      <th>1</th>\n",
       "      <td>fightfan1296@gmail.com</td>\n",
       "    </tr>\n",
       "    <tr>\n",
       "      <th>2</th>\n",
       "      <td>fightfan1296@gmail.com</td>\n",
       "    </tr>\n",
       "    <tr>\n",
       "      <th>3</th>\n",
       "      <td>fightfan1296@gmail.com</td>\n",
       "    </tr>\n",
       "    <tr>\n",
       "      <th>4</th>\n",
       "      <td>fightfan1296@gmail.com</td>\n",
       "    </tr>\n",
       "    <tr>\n",
       "      <th>5</th>\n",
       "      <td>fightfan1296@gmail.com</td>\n",
       "    </tr>\n",
       "    <tr>\n",
       "      <th>6</th>\n",
       "      <td>fightfan1296@gmail.com</td>\n",
       "    </tr>\n",
       "    <tr>\n",
       "      <th>7</th>\n",
       "      <td>fightfan1296@gmail.com</td>\n",
       "    </tr>\n",
       "    <tr>\n",
       "      <th>8</th>\n",
       "      <td>fightfan1296@gmail.com</td>\n",
       "    </tr>\n",
       "  </tbody>\n",
       "</table>\n",
       "</div>"
      ],
      "text/plain": [
       "                                 From\n",
       "0  Fight Fan <fightfan1296@gmail.com>\n",
       "1              fightfan1296@gmail.com\n",
       "2              fightfan1296@gmail.com\n",
       "3              fightfan1296@gmail.com\n",
       "4              fightfan1296@gmail.com\n",
       "5              fightfan1296@gmail.com\n",
       "6              fightfan1296@gmail.com\n",
       "7              fightfan1296@gmail.com\n",
       "8              fightfan1296@gmail.com"
      ]
     },
     "execution_count": 32,
     "metadata": {},
     "output_type": "execute_result"
    }
   ],
   "source": [
    "lis_from=pd.DataFrame(lis_from)\n",
    "lis_from.rename(columns={0:'From'}, inplace = True)\n",
    "lis_from"
   ]
  },
  {
   "cell_type": "code",
   "execution_count": 33,
   "id": "a51e6ade",
   "metadata": {},
   "outputs": [
    {
     "data": {
      "text/html": [
       "<div>\n",
       "<style scoped>\n",
       "    .dataframe tbody tr th:only-of-type {\n",
       "        vertical-align: middle;\n",
       "    }\n",
       "\n",
       "    .dataframe tbody tr th {\n",
       "        vertical-align: top;\n",
       "    }\n",
       "\n",
       "    .dataframe thead th {\n",
       "        text-align: right;\n",
       "    }\n",
       "</style>\n",
       "<table border=\"1\" class=\"dataframe\">\n",
       "  <thead>\n",
       "    <tr style=\"text-align: right;\">\n",
       "      <th></th>\n",
       "      <th>From</th>\n",
       "      <th>Subject</th>\n",
       "    </tr>\n",
       "  </thead>\n",
       "  <tbody>\n",
       "    <tr>\n",
       "      <th>0</th>\n",
       "      <td>Fight Fan &lt;fightfan1296@gmail.com&gt;</td>\n",
       "      <td>#4 CGC sales forecast has changed</td>\n",
       "    </tr>\n",
       "    <tr>\n",
       "      <th>1</th>\n",
       "      <td>fightfan1296@gmail.com</td>\n",
       "      <td>#1</td>\n",
       "    </tr>\n",
       "    <tr>\n",
       "      <th>2</th>\n",
       "      <td>fightfan1296@gmail.com</td>\n",
       "      <td>#2</td>\n",
       "    </tr>\n",
       "    <tr>\n",
       "      <th>3</th>\n",
       "      <td>fightfan1296@gmail.com</td>\n",
       "      <td>#5</td>\n",
       "    </tr>\n",
       "    <tr>\n",
       "      <th>4</th>\n",
       "      <td>fightfan1296@gmail.com</td>\n",
       "      <td>#2</td>\n",
       "    </tr>\n",
       "    <tr>\n",
       "      <th>5</th>\n",
       "      <td>fightfan1296@gmail.com</td>\n",
       "      <td>#4</td>\n",
       "    </tr>\n",
       "    <tr>\n",
       "      <th>6</th>\n",
       "      <td>fightfan1296@gmail.com</td>\n",
       "      <td>#2</td>\n",
       "    </tr>\n",
       "    <tr>\n",
       "      <th>7</th>\n",
       "      <td>fightfan1296@gmail.com</td>\n",
       "      <td>#4</td>\n",
       "    </tr>\n",
       "    <tr>\n",
       "      <th>8</th>\n",
       "      <td>fightfan1296@gmail.com</td>\n",
       "      <td>#2</td>\n",
       "    </tr>\n",
       "  </tbody>\n",
       "</table>\n",
       "</div>"
      ],
      "text/plain": [
       "                                 From                            Subject\n",
       "0  Fight Fan <fightfan1296@gmail.com>  #4 CGC sales forecast has changed\n",
       "1              fightfan1296@gmail.com                                 #1\n",
       "2              fightfan1296@gmail.com                                 #2\n",
       "3              fightfan1296@gmail.com                                 #5\n",
       "4              fightfan1296@gmail.com                                 #2\n",
       "5              fightfan1296@gmail.com                                 #4\n",
       "6              fightfan1296@gmail.com                                 #2\n",
       "7              fightfan1296@gmail.com                                 #4\n",
       "8              fightfan1296@gmail.com                                 #2"
      ]
     },
     "execution_count": 33,
     "metadata": {},
     "output_type": "execute_result"
    }
   ],
   "source": [
    "result = pd.concat([lis_from, lis_subj],axis = 1, join = 'outer', ignore_index=False, sort=False)\n",
    "result"
   ]
  },
  {
   "cell_type": "code",
   "execution_count": 34,
   "id": "d7933269",
   "metadata": {},
   "outputs": [
    {
     "name": "stdout",
     "output_type": "stream",
     "text": [
      "Subject: #4 CGC sales forecast has changed\n",
      "From: Fight Fan <fightfan1296@gmail.com>\n",
      "Dear back office team,\n",
      "\n",
      "please be aware of the following change in service sales revenue for the\n",
      "month of OCT\n",
      "\n",
      "234.32, 13.23, 221.56, 112.01, 110.00, 189.21\n",
      "\n",
      "Subject: #1\n",
      "From: fightfan1296@gmail.com\n",
      "194\n",
      "\n",
      "Subject: #2\n",
      "From: fightfan1296@gmail.com\n",
      "193\n",
      "\n",
      "Subject: #5\n",
      "From: fightfan1296@gmail.com\n",
      "144\n",
      "\n",
      "Subject: #2\n",
      "From: fightfan1296@gmail.com\n",
      "107\n",
      "\n",
      "Subject: #4\n",
      "From: fightfan1296@gmail.com\n",
      "103\n",
      "\n",
      "Subject: #2\n",
      "From: fightfan1296@gmail.com\n",
      "153\n",
      "\n",
      "Subject: #4\n",
      "From: fightfan1296@gmail.com\n",
      "103\n",
      "\n",
      "Subject: #2\n",
      "From: fightfan1296@gmail.com\n",
      "150\n",
      "\n"
     ]
    }
   ],
   "source": [
    "body_mes=[]\n",
    "for i in range(messages, messages-n, -1):\n",
    "    # fetch the email message by ID\n",
    "    res, msg = mail.fetch(str(i), \"(RFC822)\")\n",
    "    for response in msg:\n",
    "        if isinstance(response, tuple):\n",
    "            # parse a bytes email into a message object\n",
    "            msg = email.message_from_bytes(response[1])\n",
    "            # decode the email subject\n",
    "            subject, encoding = decode_header(msg[\"Subject\"])[0]\n",
    "            if isinstance(subject, bytes):\n",
    "                # if it's a bytes, decode to str\n",
    "                subject = subject.decode(encoding)\n",
    "            # decode email sender\n",
    "            From, encoding = decode_header(msg.get(\"From\"))[0]\n",
    "            if isinstance(From, bytes):\n",
    "                From = From.decode(encoding)\n",
    "            print(\"Subject:\", subject)\n",
    "            print(\"From:\", From)\n",
    "             # if the email message is multipart\n",
    "            if msg.is_multipart():\n",
    "                # iterate over email parts\n",
    "                for part in msg.walk():\n",
    "                    # extract content type of email\n",
    "                    content_type = part.get_content_type()\n",
    "                    content_disposition = str(part.get(\"Content-Disposition\"))\n",
    "                    try:\n",
    "                        # get the email body\n",
    "                        body = part.get_payload(decode=True).decode()\n",
    "                    except:\n",
    "                        pass\n",
    "                    if content_type == \"text/plain\" and \"attachment\" not in content_disposition:\n",
    "                        # print text/plain emails and skip attachments\n",
    "                        print(body)\n",
    "                    elif \"attachment\" in content_disposition:\n",
    "                        # download attachment\n",
    "                        filename = part.get_filename()\n",
    "                        if filename:\n",
    "                            folder_name = clean(subject)\n",
    "                            if not os.path.isdir(folder_name):\n",
    "                                # make a folder for this email (named after the subject)\n",
    "                                os.mkdir(folder_name)\n",
    "                            filepath = os.path.join(folder_name, filename)\n",
    "                            # download attachment and save it\n",
    "                            open(filepath, \"wb\").write(part.get_payload(decode=True))\n",
    "            else:\n",
    "                # extract content type of email\n",
    "                content_type = msg.get_content_type()\n",
    "                # get the email body\n",
    "                body = msg.get_payload(decode=True).decode()\n",
    "                if content_type == \"text/plain\":\n",
    "                    # print only text email parts\n",
    "                    body_mes.append(int(body))\n",
    "                    print(body)"
   ]
  },
  {
   "cell_type": "code",
   "execution_count": 35,
   "id": "98a2e25c",
   "metadata": {},
   "outputs": [],
   "source": [
    "body_mes=pd.DataFrame(body_mes)\n",
    "body_mes.rename(columns = {0:'Body'}, inplace = True)"
   ]
  },
  {
   "cell_type": "code",
   "execution_count": 36,
   "id": "e1f289f8",
   "metadata": {},
   "outputs": [
    {
     "data": {
      "text/html": [
       "<div>\n",
       "<style scoped>\n",
       "    .dataframe tbody tr th:only-of-type {\n",
       "        vertical-align: middle;\n",
       "    }\n",
       "\n",
       "    .dataframe tbody tr th {\n",
       "        vertical-align: top;\n",
       "    }\n",
       "\n",
       "    .dataframe thead th {\n",
       "        text-align: right;\n",
       "    }\n",
       "</style>\n",
       "<table border=\"1\" class=\"dataframe\">\n",
       "  <thead>\n",
       "    <tr style=\"text-align: right;\">\n",
       "      <th></th>\n",
       "      <th>From</th>\n",
       "      <th>Subject</th>\n",
       "      <th>Body</th>\n",
       "    </tr>\n",
       "  </thead>\n",
       "  <tbody>\n",
       "    <tr>\n",
       "      <th>0</th>\n",
       "      <td>Fight Fan &lt;fightfan1296@gmail.com&gt;</td>\n",
       "      <td>#4 CGC sales forecast has changed</td>\n",
       "      <td>194.0</td>\n",
       "    </tr>\n",
       "    <tr>\n",
       "      <th>1</th>\n",
       "      <td>fightfan1296@gmail.com</td>\n",
       "      <td>#1</td>\n",
       "      <td>193.0</td>\n",
       "    </tr>\n",
       "    <tr>\n",
       "      <th>2</th>\n",
       "      <td>fightfan1296@gmail.com</td>\n",
       "      <td>#2</td>\n",
       "      <td>144.0</td>\n",
       "    </tr>\n",
       "    <tr>\n",
       "      <th>3</th>\n",
       "      <td>fightfan1296@gmail.com</td>\n",
       "      <td>#5</td>\n",
       "      <td>107.0</td>\n",
       "    </tr>\n",
       "    <tr>\n",
       "      <th>4</th>\n",
       "      <td>fightfan1296@gmail.com</td>\n",
       "      <td>#2</td>\n",
       "      <td>103.0</td>\n",
       "    </tr>\n",
       "    <tr>\n",
       "      <th>5</th>\n",
       "      <td>fightfan1296@gmail.com</td>\n",
       "      <td>#4</td>\n",
       "      <td>153.0</td>\n",
       "    </tr>\n",
       "    <tr>\n",
       "      <th>6</th>\n",
       "      <td>fightfan1296@gmail.com</td>\n",
       "      <td>#2</td>\n",
       "      <td>103.0</td>\n",
       "    </tr>\n",
       "    <tr>\n",
       "      <th>7</th>\n",
       "      <td>fightfan1296@gmail.com</td>\n",
       "      <td>#4</td>\n",
       "      <td>150.0</td>\n",
       "    </tr>\n",
       "    <tr>\n",
       "      <th>8</th>\n",
       "      <td>fightfan1296@gmail.com</td>\n",
       "      <td>#2</td>\n",
       "      <td>NaN</td>\n",
       "    </tr>\n",
       "  </tbody>\n",
       "</table>\n",
       "</div>"
      ],
      "text/plain": [
       "                                 From                            Subject  \\\n",
       "0  Fight Fan <fightfan1296@gmail.com>  #4 CGC sales forecast has changed   \n",
       "1              fightfan1296@gmail.com                                 #1   \n",
       "2              fightfan1296@gmail.com                                 #2   \n",
       "3              fightfan1296@gmail.com                                 #5   \n",
       "4              fightfan1296@gmail.com                                 #2   \n",
       "5              fightfan1296@gmail.com                                 #4   \n",
       "6              fightfan1296@gmail.com                                 #2   \n",
       "7              fightfan1296@gmail.com                                 #4   \n",
       "8              fightfan1296@gmail.com                                 #2   \n",
       "\n",
       "    Body  \n",
       "0  194.0  \n",
       "1  193.0  \n",
       "2  144.0  \n",
       "3  107.0  \n",
       "4  103.0  \n",
       "5  153.0  \n",
       "6  103.0  \n",
       "7  150.0  \n",
       "8    NaN  "
      ]
     },
     "execution_count": 36,
     "metadata": {},
     "output_type": "execute_result"
    }
   ],
   "source": [
    "result1 = pd.concat([result, body_mes],axis = 1, join = 'outer', ignore_index=False, sort=False)\n",
    "result1"
   ]
  }
 ],
 "metadata": {
  "kernelspec": {
   "display_name": "Python 3 (ipykernel)",
   "language": "python",
   "name": "python3"
  },
  "language_info": {
   "codemirror_mode": {
    "name": "ipython",
    "version": 3
   },
   "file_extension": ".py",
   "mimetype": "text/x-python",
   "name": "python",
   "nbconvert_exporter": "python",
   "pygments_lexer": "ipython3",
   "version": "3.9.12"
  }
 },
 "nbformat": 4,
 "nbformat_minor": 5
}
